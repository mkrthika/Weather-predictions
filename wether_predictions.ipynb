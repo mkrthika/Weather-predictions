{
 "cells": [
  {
   "cell_type": "markdown",
   "metadata": {},
   "source": [
    "## **Predicting weather conditions **"
   ]
  },
  {
   "cell_type": "code",
   "execution_count": 1,
   "metadata": {},
   "outputs": [
    {
     "name": "stderr",
     "output_type": "stream",
     "text": [
      "E:\\anaconda\\lib\\site-packages\\sklearn\\cross_validation.py:41: DeprecationWarning: This module was deprecated in version 0.18 in favor of the model_selection module into which all the refactored classes and functions are moved. Also note that the interface of the new CV iterators are different from that of this module. This module will be removed in 0.20.\n",
      "  \"This module will be removed in 0.20.\", DeprecationWarning)\n",
      "E:\\anaconda\\lib\\site-packages\\sklearn\\grid_search.py:42: DeprecationWarning: This module was deprecated in version 0.18 in favor of the model_selection module into which all the refactored classes and functions are moved. This module will be removed in 0.20.\n",
      "  DeprecationWarning)\n"
     ]
    }
   ],
   "source": [
    "import numpy as np\n",
    "import pandas as pd\n",
    "import matplotlib.pyplot as plt\n",
    "import seaborn as sns\n",
    "from sklearn import metrics\n",
    "from sklearn.model_selection import train_test_split\n",
    "from sklearn.ensemble import RandomForestRegressor\n",
    "from sklearn.neighbors import KNeighborsRegressor\n",
    "from sklearn.linear_model import LinearRegression\n",
    "from sklearn.svm import SVR\n",
    "from xgboost import  XGBRegressor\n",
    "from sklearn import  grid_search\n",
    "\n"
   ]
  },
  {
   "cell_type": "code",
   "execution_count": 2,
   "metadata": {},
   "outputs": [
    {
     "name": "stdout",
     "output_type": "stream",
     "text": [
      "(348, 12)\n",
      "Index(['year', 'month', 'day', 'week', 'temp_2', 'temp_1', 'average', 'actual',\n",
      "       'forecast_noaa', 'forecast_acc', 'forecast_under', 'friend'],\n",
      "      dtype='object')\n"
     ]
    }
   ],
   "source": [
    "df = pd.read_csv(r'C:\\Users\\Priti\\Desktop\\corpnce_data_science\\kaggle proj\\temps.csv')\n",
    "print(df.shape)\n",
    "print(df.columns)\n"
   ]
  },
  {
   "cell_type": "markdown",
   "metadata": {},
   "source": [
    "**Feature types:**\n",
    "\n",
    "**Categorical features:** week\n",
    "\n",
    "**Numeric features:** year, month, day, temp_2,temp_1,average,actual,forecast_noaa,forecast_acc,forecast_under,friend"
   ]
  },
  {
   "cell_type": "code",
   "execution_count": 3,
   "metadata": {},
   "outputs": [
    {
     "data": {
      "text/html": [
       "<div>\n",
       "<style scoped>\n",
       "    .dataframe tbody tr th:only-of-type {\n",
       "        vertical-align: middle;\n",
       "    }\n",
       "\n",
       "    .dataframe tbody tr th {\n",
       "        vertical-align: top;\n",
       "    }\n",
       "\n",
       "    .dataframe thead th {\n",
       "        text-align: right;\n",
       "    }\n",
       "</style>\n",
       "<table border=\"1\" class=\"dataframe\">\n",
       "  <thead>\n",
       "    <tr style=\"text-align: right;\">\n",
       "      <th></th>\n",
       "      <th>year</th>\n",
       "      <th>month</th>\n",
       "      <th>day</th>\n",
       "      <th>week</th>\n",
       "      <th>temp_2</th>\n",
       "      <th>temp_1</th>\n",
       "      <th>average</th>\n",
       "      <th>actual</th>\n",
       "      <th>forecast_noaa</th>\n",
       "      <th>forecast_acc</th>\n",
       "      <th>forecast_under</th>\n",
       "      <th>friend</th>\n",
       "    </tr>\n",
       "  </thead>\n",
       "  <tbody>\n",
       "    <tr>\n",
       "      <th>0</th>\n",
       "      <td>2016</td>\n",
       "      <td>1</td>\n",
       "      <td>1</td>\n",
       "      <td>Fri</td>\n",
       "      <td>45</td>\n",
       "      <td>45</td>\n",
       "      <td>45.6</td>\n",
       "      <td>45</td>\n",
       "      <td>43</td>\n",
       "      <td>50</td>\n",
       "      <td>44</td>\n",
       "      <td>29</td>\n",
       "    </tr>\n",
       "    <tr>\n",
       "      <th>1</th>\n",
       "      <td>2016</td>\n",
       "      <td>1</td>\n",
       "      <td>2</td>\n",
       "      <td>Sat</td>\n",
       "      <td>44</td>\n",
       "      <td>45</td>\n",
       "      <td>45.7</td>\n",
       "      <td>44</td>\n",
       "      <td>41</td>\n",
       "      <td>50</td>\n",
       "      <td>44</td>\n",
       "      <td>61</td>\n",
       "    </tr>\n",
       "    <tr>\n",
       "      <th>2</th>\n",
       "      <td>2016</td>\n",
       "      <td>1</td>\n",
       "      <td>3</td>\n",
       "      <td>Sun</td>\n",
       "      <td>45</td>\n",
       "      <td>44</td>\n",
       "      <td>45.8</td>\n",
       "      <td>41</td>\n",
       "      <td>43</td>\n",
       "      <td>46</td>\n",
       "      <td>47</td>\n",
       "      <td>56</td>\n",
       "    </tr>\n",
       "    <tr>\n",
       "      <th>3</th>\n",
       "      <td>2016</td>\n",
       "      <td>1</td>\n",
       "      <td>4</td>\n",
       "      <td>Mon</td>\n",
       "      <td>44</td>\n",
       "      <td>41</td>\n",
       "      <td>45.9</td>\n",
       "      <td>40</td>\n",
       "      <td>44</td>\n",
       "      <td>48</td>\n",
       "      <td>46</td>\n",
       "      <td>53</td>\n",
       "    </tr>\n",
       "    <tr>\n",
       "      <th>4</th>\n",
       "      <td>2016</td>\n",
       "      <td>1</td>\n",
       "      <td>5</td>\n",
       "      <td>Tues</td>\n",
       "      <td>41</td>\n",
       "      <td>40</td>\n",
       "      <td>46.0</td>\n",
       "      <td>44</td>\n",
       "      <td>46</td>\n",
       "      <td>46</td>\n",
       "      <td>46</td>\n",
       "      <td>41</td>\n",
       "    </tr>\n",
       "    <tr>\n",
       "      <th>5</th>\n",
       "      <td>2016</td>\n",
       "      <td>1</td>\n",
       "      <td>6</td>\n",
       "      <td>Wed</td>\n",
       "      <td>40</td>\n",
       "      <td>44</td>\n",
       "      <td>46.1</td>\n",
       "      <td>51</td>\n",
       "      <td>43</td>\n",
       "      <td>49</td>\n",
       "      <td>48</td>\n",
       "      <td>40</td>\n",
       "    </tr>\n",
       "    <tr>\n",
       "      <th>6</th>\n",
       "      <td>2016</td>\n",
       "      <td>1</td>\n",
       "      <td>7</td>\n",
       "      <td>Thurs</td>\n",
       "      <td>44</td>\n",
       "      <td>51</td>\n",
       "      <td>46.2</td>\n",
       "      <td>45</td>\n",
       "      <td>45</td>\n",
       "      <td>49</td>\n",
       "      <td>46</td>\n",
       "      <td>38</td>\n",
       "    </tr>\n",
       "    <tr>\n",
       "      <th>7</th>\n",
       "      <td>2016</td>\n",
       "      <td>1</td>\n",
       "      <td>8</td>\n",
       "      <td>Fri</td>\n",
       "      <td>51</td>\n",
       "      <td>45</td>\n",
       "      <td>46.3</td>\n",
       "      <td>48</td>\n",
       "      <td>43</td>\n",
       "      <td>47</td>\n",
       "      <td>46</td>\n",
       "      <td>34</td>\n",
       "    </tr>\n",
       "    <tr>\n",
       "      <th>8</th>\n",
       "      <td>2016</td>\n",
       "      <td>1</td>\n",
       "      <td>9</td>\n",
       "      <td>Sat</td>\n",
       "      <td>45</td>\n",
       "      <td>48</td>\n",
       "      <td>46.4</td>\n",
       "      <td>50</td>\n",
       "      <td>46</td>\n",
       "      <td>50</td>\n",
       "      <td>45</td>\n",
       "      <td>47</td>\n",
       "    </tr>\n",
       "    <tr>\n",
       "      <th>9</th>\n",
       "      <td>2016</td>\n",
       "      <td>1</td>\n",
       "      <td>10</td>\n",
       "      <td>Sun</td>\n",
       "      <td>48</td>\n",
       "      <td>50</td>\n",
       "      <td>46.5</td>\n",
       "      <td>52</td>\n",
       "      <td>45</td>\n",
       "      <td>48</td>\n",
       "      <td>48</td>\n",
       "      <td>49</td>\n",
       "    </tr>\n",
       "  </tbody>\n",
       "</table>\n",
       "</div>"
      ],
      "text/plain": [
       "   year  month  day   week  temp_2  temp_1  average  actual  forecast_noaa  \\\n",
       "0  2016      1    1    Fri      45      45     45.6      45             43   \n",
       "1  2016      1    2    Sat      44      45     45.7      44             41   \n",
       "2  2016      1    3    Sun      45      44     45.8      41             43   \n",
       "3  2016      1    4    Mon      44      41     45.9      40             44   \n",
       "4  2016      1    5   Tues      41      40     46.0      44             46   \n",
       "5  2016      1    6    Wed      40      44     46.1      51             43   \n",
       "6  2016      1    7  Thurs      44      51     46.2      45             45   \n",
       "7  2016      1    8    Fri      51      45     46.3      48             43   \n",
       "8  2016      1    9    Sat      45      48     46.4      50             46   \n",
       "9  2016      1   10    Sun      48      50     46.5      52             45   \n",
       "\n",
       "   forecast_acc  forecast_under  friend  \n",
       "0            50              44      29  \n",
       "1            50              44      61  \n",
       "2            46              47      56  \n",
       "3            48              46      53  \n",
       "4            46              46      41  \n",
       "5            49              48      40  \n",
       "6            49              46      38  \n",
       "7            47              46      34  \n",
       "8            50              45      47  \n",
       "9            48              48      49  "
      ]
     },
     "execution_count": 3,
     "metadata": {},
     "output_type": "execute_result"
    }
   ],
   "source": [
    "df.head(10)"
   ]
  },
  {
   "cell_type": "code",
   "execution_count": 4,
   "metadata": {},
   "outputs": [
    {
     "name": "stdout",
     "output_type": "stream",
     "text": [
      "<class 'pandas.core.frame.DataFrame'>\n",
      "RangeIndex: 348 entries, 0 to 347\n",
      "Data columns (total 12 columns):\n",
      "year              348 non-null int64\n",
      "month             348 non-null int64\n",
      "day               348 non-null int64\n",
      "week              348 non-null object\n",
      "temp_2            348 non-null int64\n",
      "temp_1            348 non-null int64\n",
      "average           348 non-null float64\n",
      "actual            348 non-null int64\n",
      "forecast_noaa     348 non-null int64\n",
      "forecast_acc      348 non-null int64\n",
      "forecast_under    348 non-null int64\n",
      "friend            348 non-null int64\n",
      "dtypes: float64(1), int64(10), object(1)\n",
      "memory usage: 32.7+ KB\n"
     ]
    }
   ],
   "source": [
    "df.info()\n",
    "#no null values found in our dataset, and one categorical feature is observed"
   ]
  },
  {
   "cell_type": "code",
   "execution_count": 5,
   "metadata": {},
   "outputs": [
    {
     "data": {
      "text/html": [
       "<div>\n",
       "<style scoped>\n",
       "    .dataframe tbody tr th:only-of-type {\n",
       "        vertical-align: middle;\n",
       "    }\n",
       "\n",
       "    .dataframe tbody tr th {\n",
       "        vertical-align: top;\n",
       "    }\n",
       "\n",
       "    .dataframe thead th {\n",
       "        text-align: right;\n",
       "    }\n",
       "</style>\n",
       "<table border=\"1\" class=\"dataframe\">\n",
       "  <thead>\n",
       "    <tr style=\"text-align: right;\">\n",
       "      <th></th>\n",
       "      <th>year</th>\n",
       "      <th>month</th>\n",
       "      <th>day</th>\n",
       "      <th>temp_2</th>\n",
       "      <th>temp_1</th>\n",
       "      <th>average</th>\n",
       "      <th>actual</th>\n",
       "      <th>forecast_noaa</th>\n",
       "      <th>forecast_acc</th>\n",
       "      <th>forecast_under</th>\n",
       "      <th>friend</th>\n",
       "    </tr>\n",
       "  </thead>\n",
       "  <tbody>\n",
       "    <tr>\n",
       "      <th>count</th>\n",
       "      <td>348.0</td>\n",
       "      <td>348.000000</td>\n",
       "      <td>348.000000</td>\n",
       "      <td>348.000000</td>\n",
       "      <td>348.000000</td>\n",
       "      <td>348.000000</td>\n",
       "      <td>348.000000</td>\n",
       "      <td>348.000000</td>\n",
       "      <td>348.000000</td>\n",
       "      <td>348.000000</td>\n",
       "      <td>348.000000</td>\n",
       "    </tr>\n",
       "    <tr>\n",
       "      <th>mean</th>\n",
       "      <td>2016.0</td>\n",
       "      <td>6.477011</td>\n",
       "      <td>15.514368</td>\n",
       "      <td>62.652299</td>\n",
       "      <td>62.701149</td>\n",
       "      <td>59.760632</td>\n",
       "      <td>62.543103</td>\n",
       "      <td>57.238506</td>\n",
       "      <td>62.373563</td>\n",
       "      <td>59.772989</td>\n",
       "      <td>60.034483</td>\n",
       "    </tr>\n",
       "    <tr>\n",
       "      <th>std</th>\n",
       "      <td>0.0</td>\n",
       "      <td>3.498380</td>\n",
       "      <td>8.772982</td>\n",
       "      <td>12.165398</td>\n",
       "      <td>12.120542</td>\n",
       "      <td>10.527306</td>\n",
       "      <td>11.794146</td>\n",
       "      <td>10.605746</td>\n",
       "      <td>10.549381</td>\n",
       "      <td>10.705256</td>\n",
       "      <td>15.626179</td>\n",
       "    </tr>\n",
       "    <tr>\n",
       "      <th>min</th>\n",
       "      <td>2016.0</td>\n",
       "      <td>1.000000</td>\n",
       "      <td>1.000000</td>\n",
       "      <td>35.000000</td>\n",
       "      <td>35.000000</td>\n",
       "      <td>45.100000</td>\n",
       "      <td>35.000000</td>\n",
       "      <td>41.000000</td>\n",
       "      <td>46.000000</td>\n",
       "      <td>44.000000</td>\n",
       "      <td>28.000000</td>\n",
       "    </tr>\n",
       "    <tr>\n",
       "      <th>25%</th>\n",
       "      <td>2016.0</td>\n",
       "      <td>3.000000</td>\n",
       "      <td>8.000000</td>\n",
       "      <td>54.000000</td>\n",
       "      <td>54.000000</td>\n",
       "      <td>49.975000</td>\n",
       "      <td>54.000000</td>\n",
       "      <td>48.000000</td>\n",
       "      <td>53.000000</td>\n",
       "      <td>50.000000</td>\n",
       "      <td>47.750000</td>\n",
       "    </tr>\n",
       "    <tr>\n",
       "      <th>50%</th>\n",
       "      <td>2016.0</td>\n",
       "      <td>6.000000</td>\n",
       "      <td>15.000000</td>\n",
       "      <td>62.500000</td>\n",
       "      <td>62.500000</td>\n",
       "      <td>58.200000</td>\n",
       "      <td>62.500000</td>\n",
       "      <td>56.000000</td>\n",
       "      <td>61.000000</td>\n",
       "      <td>58.000000</td>\n",
       "      <td>60.000000</td>\n",
       "    </tr>\n",
       "    <tr>\n",
       "      <th>75%</th>\n",
       "      <td>2016.0</td>\n",
       "      <td>10.000000</td>\n",
       "      <td>23.000000</td>\n",
       "      <td>71.000000</td>\n",
       "      <td>71.000000</td>\n",
       "      <td>69.025000</td>\n",
       "      <td>71.000000</td>\n",
       "      <td>66.000000</td>\n",
       "      <td>72.000000</td>\n",
       "      <td>69.000000</td>\n",
       "      <td>71.000000</td>\n",
       "    </tr>\n",
       "    <tr>\n",
       "      <th>max</th>\n",
       "      <td>2016.0</td>\n",
       "      <td>12.000000</td>\n",
       "      <td>31.000000</td>\n",
       "      <td>117.000000</td>\n",
       "      <td>117.000000</td>\n",
       "      <td>77.400000</td>\n",
       "      <td>92.000000</td>\n",
       "      <td>77.000000</td>\n",
       "      <td>82.000000</td>\n",
       "      <td>79.000000</td>\n",
       "      <td>95.000000</td>\n",
       "    </tr>\n",
       "  </tbody>\n",
       "</table>\n",
       "</div>"
      ],
      "text/plain": [
       "         year       month         day      temp_2      temp_1     average  \\\n",
       "count   348.0  348.000000  348.000000  348.000000  348.000000  348.000000   \n",
       "mean   2016.0    6.477011   15.514368   62.652299   62.701149   59.760632   \n",
       "std       0.0    3.498380    8.772982   12.165398   12.120542   10.527306   \n",
       "min    2016.0    1.000000    1.000000   35.000000   35.000000   45.100000   \n",
       "25%    2016.0    3.000000    8.000000   54.000000   54.000000   49.975000   \n",
       "50%    2016.0    6.000000   15.000000   62.500000   62.500000   58.200000   \n",
       "75%    2016.0   10.000000   23.000000   71.000000   71.000000   69.025000   \n",
       "max    2016.0   12.000000   31.000000  117.000000  117.000000   77.400000   \n",
       "\n",
       "           actual  forecast_noaa  forecast_acc  forecast_under      friend  \n",
       "count  348.000000     348.000000    348.000000      348.000000  348.000000  \n",
       "mean    62.543103      57.238506     62.373563       59.772989   60.034483  \n",
       "std     11.794146      10.605746     10.549381       10.705256   15.626179  \n",
       "min     35.000000      41.000000     46.000000       44.000000   28.000000  \n",
       "25%     54.000000      48.000000     53.000000       50.000000   47.750000  \n",
       "50%     62.500000      56.000000     61.000000       58.000000   60.000000  \n",
       "75%     71.000000      66.000000     72.000000       69.000000   71.000000  \n",
       "max     92.000000      77.000000     82.000000       79.000000   95.000000  "
      ]
     },
     "execution_count": 5,
     "metadata": {},
     "output_type": "execute_result"
    }
   ],
   "source": [
    "df.describe()"
   ]
  },
  {
   "cell_type": "code",
   "execution_count": 6,
   "metadata": {},
   "outputs": [],
   "source": [
    "#create a new copy of df for temporary work around\n",
    "df_new = df.copy()\n",
    "\n",
    "#drop year as it is same value for entire column\n",
    "df_new.drop(['year'],axis=1,inplace=True)"
   ]
  },
  {
   "cell_type": "code",
   "execution_count": 7,
   "metadata": {
    "scrolled": true
   },
   "outputs": [
    {
     "data": {
      "text/plain": [
       "<matplotlib.axes._subplots.AxesSubplot at 0xb19a358>"
      ]
     },
     "execution_count": 7,
     "metadata": {},
     "output_type": "execute_result"
    },
    {
     "data": {
      "image/png": "[encoded data removed]",
      "text/plain": [
       "<Figure size 576x576 with 2 Axes>"
      ]
     },
     "metadata": {},
     "output_type": "display_data"
    }
   ],
   "source": [
    "#Correlation map\n",
    "plt.figure(figsize=(8,8))\n",
    "sns.heatmap(df_new.corr(),annot=True)"
   ]
  },
  {
   "cell_type": "markdown",
   "metadata": {},
   "source": [
    "From heatmap we could see month and day column has least correlations, all other features has impact on weather"
   ]
  },
  {
   "cell_type": "markdown",
   "metadata": {},
   "source": [
    "**Let's visualize correlation between label and each feature**"
   ]
  },
  {
   "cell_type": "code",
   "execution_count": 8,
   "metadata": {
    "scrolled": true
   },
   "outputs": [
    {
     "data": {
      "text/plain": [
       "Text(0,0.5,'actual')"
      ]
     },
     "execution_count": 8,
     "metadata": {},
     "output_type": "execute_result"
    },
    {
     "data": {
      "image/png": "[encoded data removed]",
      "text/plain": [
       "<Figure size 1080x504 with 9 Axes>"
      ]
     },
     "metadata": {},
     "output_type": "display_data"
    }
   ],
   "source": [
    "fig,ax = plt.subplots(3,3, figsize=(15,7))\n",
    "plt.subplot(3,3,1)\n",
    "plt.scatter('temp_2','actual',data=df)\n",
    "plt.xlabel('temp_2')\n",
    "plt.ylabel('Actual')\n",
    "\n",
    "plt.subplot(3,3,2)\n",
    "plt.scatter('temp_1','actual',data=df)\n",
    "plt.xlabel('temp_1')\n",
    "plt.ylabel('Actual')\n",
    "\n",
    "plt.subplot(3,3,3)\n",
    "plt.scatter('average','actual',data=df)\n",
    "plt.xlabel('average')\n",
    "plt.ylabel('Actual')\n",
    "\n",
    "plt.subplot(3,3,4)\n",
    "plt.scatter('friend','actual',data=df)\n",
    "plt.xlabel('friend')\n",
    "plt.ylabel('Actual')\n",
    "\n",
    "plt.subplot(3,3,5)\n",
    "plt.scatter('forecast_noaa','actual',data=df)\n",
    "plt.xlabel('forecast_noaa')\n",
    "plt.ylabel('Actual')\n",
    "\n",
    "plt.subplot(3,3,6)\n",
    "plt.scatter('forecast_acc','actual',data=df)\n",
    "plt.xlabel('forecast_acc')\n",
    "plt.ylabel('Actual')\n",
    "\n",
    "\n",
    "plt.subplot(3,3,7)\n",
    "plt.scatter('forecast_under','actual',data=df)\n",
    "plt.xlabel('forecast_under')\n",
    "plt.ylabel('actual')\n",
    "\n",
    "plt.subplot(3,3,8)\n",
    "plt.scatter('month','actual',data=df)\n",
    "plt.xlabel('month')\n",
    "plt.ylabel('actual')\n",
    "\n",
    "plt.subplot(3,3,9)\n",
    "plt.scatter('day','actual',data=df)\n",
    "plt.xlabel('day')\n",
    "plt.ylabel('actual')\n"
   ]
  },
  {
   "cell_type": "markdown",
   "metadata": {},
   "source": [
    "From above plots we can see that except day and month there is a linear relationship between feature and label."
   ]
  },
  {
   "cell_type": "markdown",
   "metadata": {},
   "source": [
    "Drop day, year and week columns as they are not usefull for predictions"
   ]
  },
  {
   "cell_type": "code",
   "execution_count": 9,
   "metadata": {},
   "outputs": [],
   "source": [
    "df.drop(['day','year','week'],axis=1,inplace=True)"
   ]
  },
  {
   "cell_type": "markdown",
   "metadata": {},
   "source": [
    "Create dummies for months as it is nominal in nature"
   ]
  },
  {
   "cell_type": "code",
   "execution_count": 10,
   "metadata": {},
   "outputs": [],
   "source": [
    "month_dum = pd.get_dummies(df['month'],drop_first=True)\n",
    "df= pd.concat([df,month_dum],axis=1)\n",
    "df.drop(['month'],axis=1,inplace=True)\n"
   ]
  },
  {
   "cell_type": "code",
   "execution_count": 11,
   "metadata": {},
   "outputs": [
    {
     "name": "stdout",
     "output_type": "stream",
     "text": [
      "(348, 19)\n"
     ]
    },
    {
     "data": {
      "text/html": [
       "<div>\n",
       "<style scoped>\n",
       "    .dataframe tbody tr th:only-of-type {\n",
       "        vertical-align: middle;\n",
       "    }\n",
       "\n",
       "    .dataframe tbody tr th {\n",
       "        vertical-align: top;\n",
       "    }\n",
       "\n",
       "    .dataframe thead th {\n",
       "        text-align: right;\n",
       "    }\n",
       "</style>\n",
       "<table border=\"1\" class=\"dataframe\">\n",
       "  <thead>\n",
       "    <tr style=\"text-align: right;\">\n",
       "      <th></th>\n",
       "      <th>temp_2</th>\n",
       "      <th>temp_1</th>\n",
       "      <th>average</th>\n",
       "      <th>actual</th>\n",
       "      <th>forecast_noaa</th>\n",
       "      <th>forecast_acc</th>\n",
       "      <th>forecast_under</th>\n",
       "      <th>friend</th>\n",
       "      <th>2</th>\n",
       "      <th>3</th>\n",
       "      <th>4</th>\n",
       "      <th>5</th>\n",
       "      <th>6</th>\n",
       "      <th>7</th>\n",
       "      <th>8</th>\n",
       "      <th>9</th>\n",
       "      <th>10</th>\n",
       "      <th>11</th>\n",
       "      <th>12</th>\n",
       "    </tr>\n",
       "  </thead>\n",
       "  <tbody>\n",
       "    <tr>\n",
       "      <th>0</th>\n",
       "      <td>45</td>\n",
       "      <td>45</td>\n",
       "      <td>45.6</td>\n",
       "      <td>45</td>\n",
       "      <td>43</td>\n",
       "      <td>50</td>\n",
       "      <td>44</td>\n",
       "      <td>29</td>\n",
       "      <td>0</td>\n",
       "      <td>0</td>\n",
       "      <td>0</td>\n",
       "      <td>0</td>\n",
       "      <td>0</td>\n",
       "      <td>0</td>\n",
       "      <td>0</td>\n",
       "      <td>0</td>\n",
       "      <td>0</td>\n",
       "      <td>0</td>\n",
       "      <td>0</td>\n",
       "    </tr>\n",
       "    <tr>\n",
       "      <th>1</th>\n",
       "      <td>44</td>\n",
       "      <td>45</td>\n",
       "      <td>45.7</td>\n",
       "      <td>44</td>\n",
       "      <td>41</td>\n",
       "      <td>50</td>\n",
       "      <td>44</td>\n",
       "      <td>61</td>\n",
       "      <td>0</td>\n",
       "      <td>0</td>\n",
       "      <td>0</td>\n",
       "      <td>0</td>\n",
       "      <td>0</td>\n",
       "      <td>0</td>\n",
       "      <td>0</td>\n",
       "      <td>0</td>\n",
       "      <td>0</td>\n",
       "      <td>0</td>\n",
       "      <td>0</td>\n",
       "    </tr>\n",
       "    <tr>\n",
       "      <th>2</th>\n",
       "      <td>45</td>\n",
       "      <td>44</td>\n",
       "      <td>45.8</td>\n",
       "      <td>41</td>\n",
       "      <td>43</td>\n",
       "      <td>46</td>\n",
       "      <td>47</td>\n",
       "      <td>56</td>\n",
       "      <td>0</td>\n",
       "      <td>0</td>\n",
       "      <td>0</td>\n",
       "      <td>0</td>\n",
       "      <td>0</td>\n",
       "      <td>0</td>\n",
       "      <td>0</td>\n",
       "      <td>0</td>\n",
       "      <td>0</td>\n",
       "      <td>0</td>\n",
       "      <td>0</td>\n",
       "    </tr>\n",
       "    <tr>\n",
       "      <th>3</th>\n",
       "      <td>44</td>\n",
       "      <td>41</td>\n",
       "      <td>45.9</td>\n",
       "      <td>40</td>\n",
       "      <td>44</td>\n",
       "      <td>48</td>\n",
       "      <td>46</td>\n",
       "      <td>53</td>\n",
       "      <td>0</td>\n",
       "      <td>0</td>\n",
       "      <td>0</td>\n",
       "      <td>0</td>\n",
       "      <td>0</td>\n",
       "      <td>0</td>\n",
       "      <td>0</td>\n",
       "      <td>0</td>\n",
       "      <td>0</td>\n",
       "      <td>0</td>\n",
       "      <td>0</td>\n",
       "    </tr>\n",
       "    <tr>\n",
       "      <th>4</th>\n",
       "      <td>41</td>\n",
       "      <td>40</td>\n",
       "      <td>46.0</td>\n",
       "      <td>44</td>\n",
       "      <td>46</td>\n",
       "      <td>46</td>\n",
       "      <td>46</td>\n",
       "      <td>41</td>\n",
       "      <td>0</td>\n",
       "      <td>0</td>\n",
       "      <td>0</td>\n",
       "      <td>0</td>\n",
       "      <td>0</td>\n",
       "      <td>0</td>\n",
       "      <td>0</td>\n",
       "      <td>0</td>\n",
       "      <td>0</td>\n",
       "      <td>0</td>\n",
       "      <td>0</td>\n",
       "    </tr>\n",
       "  </tbody>\n",
       "</table>\n",
       "</div>"
      ],
      "text/plain": [
       "   temp_2  temp_1  average  actual  forecast_noaa  forecast_acc  \\\n",
       "0      45      45     45.6      45             43            50   \n",
       "1      44      45     45.7      44             41            50   \n",
       "2      45      44     45.8      41             43            46   \n",
       "3      44      41     45.9      40             44            48   \n",
       "4      41      40     46.0      44             46            46   \n",
       "\n",
       "   forecast_under  friend  2  3  4  5  6  7  8  9  10  11  12  \n",
       "0              44      29  0  0  0  0  0  0  0  0   0   0   0  \n",
       "1              44      61  0  0  0  0  0  0  0  0   0   0   0  \n",
       "2              47      56  0  0  0  0  0  0  0  0   0   0   0  \n",
       "3              46      53  0  0  0  0  0  0  0  0   0   0   0  \n",
       "4              46      41  0  0  0  0  0  0  0  0   0   0   0  "
      ]
     },
     "execution_count": 11,
     "metadata": {},
     "output_type": "execute_result"
    }
   ],
   "source": [
    "print(df.shape)\n",
    "df.head()\n"
   ]
  },
  {
   "cell_type": "code",
   "execution_count": 12,
   "metadata": {},
   "outputs": [],
   "source": [
    "#separate features and label\n",
    "\n",
    "y = df['actual']\n",
    "df.drop(['actual'],inplace=True,axis=1)"
   ]
  },
  {
   "cell_type": "code",
   "execution_count": 13,
   "metadata": {},
   "outputs": [],
   "source": [
    "#features\n",
    "X=df\n"
   ]
  },
  {
   "cell_type": "code",
   "execution_count": 14,
   "metadata": {},
   "outputs": [
    {
     "name": "stdout",
     "output_type": "stream",
     "text": [
      "(278, 18)\n",
      "(70, 18)\n"
     ]
    }
   ],
   "source": [
    "#split for train and test\n",
    "\n",
    "X_train,X_test,y_train,y_test = train_test_split(X,y,test_size=.2,random_state=42)\n",
    "print(X_train.shape)\n",
    "print(X_test.shape)"
   ]
  },
  {
   "cell_type": "markdown",
   "metadata": {},
   "source": [
    "**Creating model**"
   ]
  },
  {
   "cell_type": "markdown",
   "metadata": {},
   "source": [
    "**Fitting and predicting using KNN regressor**"
   ]
  },
  {
   "cell_type": "code",
   "execution_count": 15,
   "metadata": {},
   "outputs": [
    {
     "data": {
      "text/plain": [
       "KNeighborsRegressor(algorithm='auto', leaf_size=30, metric='minkowski',\n",
       "          metric_params=None, n_jobs=1, n_neighbors=3, p=2,\n",
       "          weights='uniform')"
      ]
     },
     "execution_count": 15,
     "metadata": {},
     "output_type": "execute_result"
    }
   ],
   "source": [
    "knn =KNeighborsRegressor(n_neighbors=3)\n",
    "knn.fit(X_train,y_train)"
   ]
  },
  {
   "cell_type": "code",
   "execution_count": 16,
   "metadata": {},
   "outputs": [
    {
     "data": {
      "text/plain": [
       "array([64.33333333, 63.        , 51.66666667, 65.66666667, 67.66666667,\n",
       "       73.        , 84.        , 76.66666667, 64.        , 74.33333333,\n",
       "       65.33333333, 76.        , 42.        , 65.33333333, 71.        ,\n",
       "       53.33333333, 64.66666667, 57.        , 56.33333333, 78.        ,\n",
       "       60.33333333, 51.66666667, 68.        , 60.66666667, 57.66666667,\n",
       "       53.        , 74.        , 48.        , 65.33333333, 78.66666667,\n",
       "       62.        , 62.        , 50.33333333, 75.66666667, 76.33333333,\n",
       "       58.        , 53.66666667, 51.33333333, 70.        , 43.33333333,\n",
       "       70.33333333, 58.33333333, 74.        , 40.66666667, 60.        ,\n",
       "       71.        , 55.66666667, 80.33333333, 54.66666667, 40.66666667,\n",
       "       47.33333333, 40.66666667, 66.33333333, 66.33333333, 72.33333333,\n",
       "       59.66666667, 55.33333333, 69.33333333, 53.33333333, 61.66666667,\n",
       "       66.33333333, 50.        , 57.66666667, 72.        , 65.        ,\n",
       "       58.66666667, 77.        , 70.33333333, 76.66666667, 43.        ])"
      ]
     },
     "execution_count": 16,
     "metadata": {},
     "output_type": "execute_result"
    }
   ],
   "source": [
    "pred_knn = knn.predict(X_test)\n",
    "pred_knn"
   ]
  },
  {
   "cell_type": "code",
   "execution_count": 17,
   "metadata": {},
   "outputs": [
    {
     "name": "stdout",
     "output_type": "stream",
     "text": [
      "Explained variance for knn is: 0.7763195556575364\n",
      "\n",
      " RMSE for knn is: 5.159365040297848\n"
     ]
    }
   ],
   "source": [
    "print('Explained variance for knn is:', metrics.explained_variance_score(pred_knn,y_test))\n",
    "print('\\n RMSE for knn is:',np.sqrt(metrics.mean_squared_error(pred_knn,y_test)))"
   ]
  },
  {
   "cell_type": "markdown",
   "metadata": {},
   "source": [
    "**Predictions using linear regression**"
   ]
  },
  {
   "cell_type": "code",
   "execution_count": 18,
   "metadata": {},
   "outputs": [
    {
     "data": {
      "text/plain": [
       "LinearRegression(copy_X=True, fit_intercept=True, n_jobs=1, normalize=False)"
      ]
     },
     "execution_count": 18,
     "metadata": {},
     "output_type": "execute_result"
    }
   ],
   "source": [
    "lin = LinearRegression()\n",
    "lin.fit(X_train,y_train)\n"
   ]
  },
  {
   "cell_type": "code",
   "execution_count": 19,
   "metadata": {},
   "outputs": [
    {
     "name": "stdout",
     "output_type": "stream",
     "text": [
      "[-3.09332362e-02  4.41484385e-01  1.04852800e+00 -3.80177063e-02\n",
      "  1.37366362e-02 -2.70286303e-01 -4.62733894e-03  6.91739388e-01\n",
      " -2.04557194e-01  1.81607702e+00 -2.70455097e+00 -4.28355967e+00\n",
      " -6.12242305e+00 -5.92164868e+00 -4.86342340e+00 -3.87273159e+00\n",
      "  1.07484608e+00 -3.04943663e+00]\n",
      "-6.135371966893942\n"
     ]
    }
   ],
   "source": [
    "print(lin.coef_)\n",
    "print(lin.intercept_)"
   ]
  },
  {
   "cell_type": "code",
   "execution_count": 20,
   "metadata": {},
   "outputs": [
    {
     "data": {
      "text/plain": [
       "array([66.13240925, 66.19164855, 50.2835195 , 60.7838293 , 69.2125238 ,\n",
       "       70.26987388, 78.9409748 , 79.7198992 , 56.67095141, 74.60620789,\n",
       "       60.38482717, 75.52954506, 40.36100701, 67.01017316, 70.675677  ,\n",
       "       55.4363868 , 60.97727842, 56.88552337, 55.96829304, 78.60336745,\n",
       "       64.83361066, 55.53745036, 66.1329493 , 59.88067005, 58.68545865,\n",
       "       52.02977213, 67.63478932, 48.95868368, 64.87478097, 75.9608767 ,\n",
       "       70.14650367, 68.07828924, 53.02682554, 79.50799194, 75.5051979 ,\n",
       "       57.02483382, 54.83772906, 49.91184033, 72.36663834, 43.71820958,\n",
       "       65.93100319, 56.15280052, 73.76347693, 46.26925016, 58.71943101,\n",
       "       69.81987616, 55.04479587, 78.92442961, 56.58888207, 42.29537539,\n",
       "       45.59699568, 45.04002131, 64.15474557, 68.09602325, 75.19809655,\n",
       "       57.8660148 , 56.08729351, 58.23618453, 54.56433358, 65.067042  ,\n",
       "       68.32488997, 52.07099809, 57.37867971, 68.98592811, 59.31013   ,\n",
       "       61.63876553, 74.17087956, 71.1903203 , 74.76675732, 42.83434331])"
      ]
     },
     "execution_count": 20,
     "metadata": {},
     "output_type": "execute_result"
    }
   ],
   "source": [
    "pred_lin = lin.predict(X_test)\n",
    "pred_lin"
   ]
  },
  {
   "cell_type": "code",
   "execution_count": 21,
   "metadata": {},
   "outputs": [
    {
     "name": "stdout",
     "output_type": "stream",
     "text": [
      "Explained variance for linear regression is: 0.7603141530711299\n",
      "\n",
      " RMSE for linear regression is: 5.111342538811784\n"
     ]
    }
   ],
   "source": [
    "print('Explained variance for linear regression is:', metrics.explained_variance_score(pred_lin,y_test))\n",
    "print('\\n RMSE for linear regression is:',np.sqrt(metrics.mean_squared_error(pred_lin,y_test)))"
   ]
  },
  {
   "cell_type": "markdown",
   "metadata": {},
   "source": [
    "**Using XGboost regressor to predict**"
   ]
  },
  {
   "cell_type": "code",
   "execution_count": 22,
   "metadata": {},
   "outputs": [
    {
     "data": {
      "text/plain": [
       "XGBRegressor(base_score=0.5, booster='gbtree', colsample_bylevel=1,\n",
       "       colsample_bytree=1, gamma=0, learning_rate=0.1, max_delta_step=0,\n",
       "       max_depth=3, min_child_weight=1, missing=None, n_estimators=100,\n",
       "       n_jobs=1, nthread=None, objective='reg:linear', random_state=0,\n",
       "       reg_alpha=0, reg_lambda=1, scale_pos_weight=1, seed=None,\n",
       "       silent=True, subsample=1)"
      ]
     },
     "execution_count": 22,
     "metadata": {},
     "output_type": "execute_result"
    }
   ],
   "source": [
    "xg  =XGBRegressor()\n",
    "xg.fit(X_train,y_train)"
   ]
  },
  {
   "cell_type": "code",
   "execution_count": 23,
   "metadata": {},
   "outputs": [
    {
     "data": {
      "text/plain": [
       "array([69.97263 , 64.005066, 50.59981 , 62.15732 , 64.39209 , 73.86294 ,\n",
       "       80.14526 , 73.11985 , 60.678177, 75.47928 , 64.84834 , 71.01323 ,\n",
       "       37.76027 , 64.39259 , 72.01097 , 55.55963 , 63.300255, 55.971615,\n",
       "       57.075733, 77.505295, 63.647663, 55.392876, 65.47006 , 62.15732 ,\n",
       "       59.490208, 51.26402 , 66.44801 , 46.914276, 61.964706, 81.38748 ,\n",
       "       71.27769 , 65.74294 , 52.68061 , 82.53359 , 74.52682 , 60.858738,\n",
       "       54.895603, 52.26647 , 69.30795 , 43.704018, 71.33109 , 55.994034,\n",
       "       78.16737 , 41.544106, 61.639183, 74.94802 , 53.238434, 82.55273 ,\n",
       "       53.596474, 41.427063, 46.347332, 42.267445, 62.93343 , 64.58027 ,\n",
       "       74.629425, 62.08207 , 55.74541 , 57.987827, 55.4238  , 61.57944 ,\n",
       "       63.87909 , 50.396996, 61.891663, 69.610306, 60.71964 , 60.78407 ,\n",
       "       73.69399 , 69.43472 , 77.007126, 42.144733], dtype=float32)"
      ]
     },
     "execution_count": 23,
     "metadata": {},
     "output_type": "execute_result"
    }
   ],
   "source": [
    "pred_xg = xg.predict(X_test)\n",
    "pred_xg"
   ]
  },
  {
   "cell_type": "code",
   "execution_count": 24,
   "metadata": {},
   "outputs": [
    {
     "name": "stdout",
     "output_type": "stream",
     "text": [
      "Explained variance for XGVoost Regressor is: 0.7815558738607948\n",
      "\n",
      " RMSE for XGBoost Regressor is: 5.12106945387122\n"
     ]
    }
   ],
   "source": [
    "print('Explained variance for XGVoost Regressor is:', metrics.explained_variance_score(pred_xg,y_test))\n",
    "print('\\n RMSE for XGBoost Regressor is:',np.sqrt(metrics.mean_squared_error(pred_xg,y_test)))"
   ]
  },
  {
   "cell_type": "markdown",
   "metadata": {},
   "source": [
    "**Fittinga and predicting using Random Forest model**"
   ]
  },
  {
   "cell_type": "code",
   "execution_count": 25,
   "metadata": {},
   "outputs": [
    {
     "data": {
      "text/plain": [
       "RandomForestRegressor(bootstrap=True, criterion='mse', max_depth=None,\n",
       "           max_features='auto', max_leaf_nodes=None,\n",
       "           min_impurity_decrease=0.0, min_impurity_split=None,\n",
       "           min_samples_leaf=1, min_samples_split=2,\n",
       "           min_weight_fraction_leaf=0.0, n_estimators=20, n_jobs=1,\n",
       "           oob_score=False, random_state=5, verbose=0, warm_start=False)"
      ]
     },
     "execution_count": 25,
     "metadata": {},
     "output_type": "execute_result"
    }
   ],
   "source": [
    "rf = RandomForestRegressor(random_state=5, n_estimators=20)\n",
    "rf.fit(X_train,y_train)"
   ]
  },
  {
   "cell_type": "code",
   "execution_count": 26,
   "metadata": {},
   "outputs": [
    {
     "data": {
      "text/plain": [
       "array([68.35, 65.1 , 49.9 , 63.  , 67.2 , 73.85, 78.5 , 74.15, 62.75,\n",
       "       77.8 , 65.2 , 73.4 , 38.2 , 63.05, 70.3 , 56.7 , 62.15, 57.7 ,\n",
       "       56.6 , 75.7 , 61.4 , 53.45, 66.95, 60.1 , 60.1 , 53.4 , 65.6 ,\n",
       "       45.85, 63.  , 79.25, 71.1 , 65.45, 54.45, 83.35, 74.8 , 60.55,\n",
       "       53.45, 51.7 , 68.75, 42.  , 75.2 , 56.95, 79.65, 43.05, 59.9 ,\n",
       "       76.9 , 53.2 , 80.8 , 53.55, 41.95, 45.4 , 41.45, 64.  , 66.55,\n",
       "       75.8 , 61.1 , 54.6 , 60.8 , 54.35, 60.6 , 67.  , 49.55, 60.25,\n",
       "       69.55, 63.9 , 60.8 , 75.  , 70.05, 77.3 , 41.85])"
      ]
     },
     "execution_count": 26,
     "metadata": {},
     "output_type": "execute_result"
    }
   ],
   "source": [
    "pred_rf = rf.predict(X_test)\n",
    "pred_rf"
   ]
  },
  {
   "cell_type": "code",
   "execution_count": 27,
   "metadata": {},
   "outputs": [
    {
     "name": "stdout",
     "output_type": "stream",
     "text": [
      "Explained variance for Random forest is: 0.8122688242125523\n",
      "\n",
      " RMSE for Random forest is: 4.807869293445606\n"
     ]
    }
   ],
   "source": [
    "print('Explained variance for Random forest is:', metrics.explained_variance_score(pred_rf,y_test))\n",
    "print('\\n RMSE for Random forest is:',np.sqrt(metrics.mean_squared_error(pred_rf,y_test)))"
   ]
  },
  {
   "cell_type": "markdown",
   "metadata": {},
   "source": [
    "**Conclusion: Random Forest worked better than xgboost, linear regression and KNN regressor**\n",
    "\n",
    "**Result: Model : Random forest**\n",
    "\n",
    "**RMSE : 4.8**\n",
    "\n",
    "**Explained variance: 0.812**"
   ]
  }
 ],
 "metadata": {
  "kernelspec": {
   "display_name": "Python 3",
   "language": "python",
   "name": "python3"
  },
  "language_info": {
   "codemirror_mode": {
    "name": "ipython",
    "version": 3
   },
   "file_extension": ".py",
   "mimetype": "text/x-python",
   "name": "python",
   "nbconvert_exporter": "python",
   "pygments_lexer": "ipython3",
   "version": "3.6.5"
  }
 },
 "nbformat": 4,
 "nbformat_minor": 2
}
